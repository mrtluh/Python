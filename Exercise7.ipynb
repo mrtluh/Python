{
 "cells": [
  {
   "cell_type": "code",
   "execution_count": 4,
   "metadata": {},
   "outputs": [
    {
     "name": "stdout",
     "output_type": "stream",
     "text": [
      "bc\n",
      "ab\n",
      "hi\n",
      "jihg\n"
     ]
    }
   ],
   "source": [
    "name = \"abcdefghij\" #字符的切片处理[起始:结束:步长]切片区间属于左闭右开型。\n",
    "print(name[1:3])\n",
    "print(name[0:2])\n",
    "print(name[-3:-1])\n",
    "print(name[-1:-5:-1])"
   ]
  },
  {
   "cell_type": "code",
   "execution_count": 6,
   "metadata": {},
   "outputs": [
    {
     "data": {
      "text/plain": [
       "-1"
      ]
     },
     "execution_count": 6,
     "metadata": {},
     "output_type": "execute_result"
    }
   ],
   "source": [
    "# 字符串内建函数\n",
    "# find函数，如果包含字符串则返回其开始的索引值，如果不包含则返回-1\n",
    "str = \"Hello World! Hello Python\"\n",
    "str.find(\"lo\",0,10)\n",
    "str.find(\"lp\")"
   ]
  },
  {
   "cell_type": "code",
   "execution_count": 9,
   "metadata": {
    "scrolled": true
   },
   "outputs": [
    {
     "ename": "ValueError",
     "evalue": "substring not found",
     "output_type": "error",
     "traceback": [
      "\u001b[1;31m---------------------------------------------------------------------------\u001b[0m",
      "\u001b[1;31mValueError\u001b[0m                                Traceback (most recent call last)",
      "\u001b[1;32m<ipython-input-9-f64139c25586>\u001b[0m in \u001b[0;36m<module>\u001b[1;34m()\u001b[0m\n\u001b[0;32m      3\u001b[0m \u001b[0mstr\u001b[0m \u001b[1;33m=\u001b[0m \u001b[1;34m\"Hello World! Hello Python\"\u001b[0m\u001b[1;33m\u001b[0m\u001b[0m\n\u001b[0;32m      4\u001b[0m \u001b[0mstr\u001b[0m\u001b[1;33m.\u001b[0m\u001b[0mindex\u001b[0m\u001b[1;33m(\u001b[0m\u001b[1;34m\"lo\"\u001b[0m\u001b[1;33m,\u001b[0m\u001b[1;36m0\u001b[0m\u001b[1;33m,\u001b[0m\u001b[1;36m11\u001b[0m\u001b[1;33m)\u001b[0m\u001b[1;33m\u001b[0m\u001b[0m\n\u001b[1;32m----> 5\u001b[1;33m \u001b[0mstr\u001b[0m\u001b[1;33m.\u001b[0m\u001b[0mindex\u001b[0m\u001b[1;33m(\u001b[0m\u001b[1;34m\"uo\"\u001b[0m\u001b[1;33m)\u001b[0m\u001b[1;33m\u001b[0m\u001b[0m\n\u001b[0m",
      "\u001b[1;31mValueError\u001b[0m: substring not found"
     ]
    }
   ],
   "source": [
    "# index函数\n",
    "# 如果包含字符串则返回其开始的索引值，如果不包含则抛出异常\n",
    "str = \"Hello World! Hello Python\"\n",
    "str.index(\"lo\",0,11)\n",
    "str.index(\"uo\")"
   ]
  },
  {
   "cell_type": "code",
   "execution_count": 13,
   "metadata": {},
   "outputs": [
    {
     "name": "stdout",
     "output_type": "stream",
     "text": [
      "2\n",
      "0\n"
     ]
    }
   ],
   "source": [
    "# count函数\n",
    "# 用于统计字符串里某个字符出现的次数，返回字符在字符串里出现的次数\n",
    "str = \"Hello World! Hello Python! This is itheima!\"\n",
    "result1 = str.count(\"llo\",2,20)\n",
    "result2 = str.count(\"87\")\n",
    "print(result1)\n",
    "print(result2)\n",
    "\n"
   ]
  },
  {
   "cell_type": "code",
   "execution_count": 15,
   "metadata": {},
   "outputs": [
    {
     "name": "stdout",
     "output_type": "stream",
     "text": [
      "Hello World! Hello rengongzhineng! This is itheima!\n",
      "Hello World! Hello Python! This is itheima!\n"
     ]
    }
   ],
   "source": [
    "# replace函数\n",
    "# replace函数把字符串中的old替换为new，返回替换后的新字符串。如果没有则返回原字符串！\n",
    "str = \"Hello World! Hello Python! This is itheima!\"\n",
    "result1 = str.replace(\"Python\",\"rengongzhineng\",1)\n",
    "result2 = str.replace(\"python\",\"rengongzhineng\",1)\n",
    "print(result1)\n",
    "print(result2)"
   ]
  },
  {
   "cell_type": "code",
   "execution_count": 18,
   "metadata": {},
   "outputs": [
    {
     "name": "stdout",
     "output_type": "stream",
     "text": [
      "['this', 'is', 'a', 'str', 'example...wow!!!']\n",
      "['th', 's is a str example...wow!!!']\n",
      "['this is a str example...', 'o', '!!!']\n"
     ]
    }
   ],
   "source": [
    "# split 函数 通过制定字符对字符串进行切片处理，指定切片次数\n",
    "# 返回值是分割后的字符串列表\n",
    "str_example = \"this is a str example...wow!!!\"\n",
    "result1 = str_example.split( )\n",
    "result2 = str_example.split('i',1)\n",
    "result3 = str_example.split('w')\n",
    "print(result1)\n",
    "print(result2)\n",
    "print(result3)"
   ]
  },
  {
   "cell_type": "code",
   "execution_count": 19,
   "metadata": {},
   "outputs": [
    {
     "name": "stdout",
     "output_type": "stream",
     "text": [
      "Hello world! hello python! this is itheima!\n"
     ]
    }
   ],
   "source": [
    "# capitalize 函数将字符串的第一个字母变成大写\n",
    "# 返回一个首字母大写的字符串\n",
    "old_str = \"hello world! hello python! this is itheima!\"\n",
    "new_str = old_str.capitalize()\n",
    "print(new_str)"
   ]
  },
  {
   "cell_type": "code",
   "execution_count": 20,
   "metadata": {},
   "outputs": [
    {
     "name": "stdout",
     "output_type": "stream",
     "text": [
      "Hello World! Hello Python! This Is Itheima!\n"
     ]
    }
   ],
   "source": [
    "# title 函数返回标题化，所有单词都大写开始，其余字母小写！\n",
    "old_str = \"hello world! hello python! this is itheima!\"\n",
    "new_str = old_str.title()\n",
    "print(new_str)"
   ]
  },
  {
   "cell_type": "code",
   "execution_count": 23,
   "metadata": {},
   "outputs": [
    {
     "name": "stdout",
     "output_type": "stream",
     "text": [
      "True\n",
      "False\n"
     ]
    }
   ],
   "source": [
    "# startswith 函数用于检查字符串是否以指定的字符串开头，如果是返回Ture,否则返回False,可选开始结束位置\n",
    "old_str = \"hello world! hello python! this is itheima!\"\n",
    "result1 = old_str.startswith(\"he\",0,10)\n",
    "result2 = old_str.startswith(\"He\")\n",
    "print(result1)\n",
    "print(result2)"
   ]
  },
  {
   "cell_type": "code",
   "execution_count": 26,
   "metadata": {},
   "outputs": [
    {
     "name": "stdout",
     "output_type": "stream",
     "text": [
      "True\n",
      "False\n"
     ]
    }
   ],
   "source": [
    "# endswith 函数函数用于检查字符串是否以指定的字符串结尾，如果是返回Ture,否则返回False,可选开始结束位置\n",
    "old_str = \"hello world! hello python! this is itheima!\"\n",
    "result1 = old_str.endswith(\"a!\")\n",
    "result2 = old_str.endswith(\"lo\",0,10)\n",
    "print(result1)\n",
    "print(result2)"
   ]
  },
  {
   "cell_type": "code",
   "execution_count": 27,
   "metadata": {},
   "outputs": [
    {
     "name": "stdout",
     "output_type": "stream",
     "text": [
      "HELLO WORLD! HELLO PYTHON! THIS IS ITHEIMA!\n"
     ]
    }
   ],
   "source": [
    "# upper 函数将字符串中的小写字母转为大写字母，返回转为大写字母后的字符串。\n",
    "old_str = \"hello world! hello python! this is itheima!\"\n",
    "new_str = old_str.upper()\n",
    "print(new_str)"
   ]
  },
  {
   "cell_type": "code",
   "execution_count": 28,
   "metadata": {},
   "outputs": [
    {
     "name": "stdout",
     "output_type": "stream",
     "text": [
      "this is a str example...wow!!!********************\n"
     ]
    }
   ],
   "source": [
    "# ljust函数 返回一个字符串左对齐，并使用空格填充至指定长度的新字符串\n",
    "# 如果指定的长度小于原字符串，则返回原字符串\n",
    "str_example = \"this is a str example...wow!!!\"\n",
    "print(str_example.ljust(50,'*'))"
   ]
  },
  {
   "cell_type": "code",
   "execution_count": 29,
   "metadata": {},
   "outputs": [
    {
     "name": "stdout",
     "output_type": "stream",
     "text": [
      "********************this is a str example...wow!!!\n"
     ]
    }
   ],
   "source": [
    "# rjust 函数 返回一个字符串右对齐，并使用空格填充至指定长度的新字符串\n",
    "# 如果指定的长度小于原字符串，则返回原字符串\n",
    "str_example = \"this is a str example...wow!!!\"\n",
    "print(str_example.rjust(50,'*'))"
   ]
  },
  {
   "cell_type": "code",
   "execution_count": 30,
   "metadata": {},
   "outputs": [
    {
     "name": "stdout",
     "output_type": "stream",
     "text": [
      "**********this is a str example...wow!!!**********\n"
     ]
    }
   ],
   "source": [
    "# center 函数 返回一个指定宽度，原字符串剧中，以指定字符左右填充的字符串（默认为空格）\n",
    "str_example = \"this is a str example...wow!!!\"\n",
    "print(str_example.center(50,'*'))"
   ]
  },
  {
   "cell_type": "code",
   "execution_count": 31,
   "metadata": {},
   "outputs": [
    {
     "name": "stdout",
     "output_type": "stream",
     "text": [
      "hello world itheima and itheimaApp   \n",
      "hello world itheima and itheimaApp\n"
     ]
    }
   ],
   "source": [
    "# lstrip 函数用于截取字符串左边的空格或指定字符，返回的是一个新的字符串\n",
    "old_str1 = '   hello world itheima and itheimaApp   '\n",
    "old_str2 = '       hello world itheima and itheimaApp'\n",
    "new_str1 = old_str1.lstrip()\n",
    "new_str2 = old_str2.lstrip()\n",
    "print(new_str1)\n",
    "print(new_str2)"
   ]
  },
  {
   "cell_type": "code",
   "execution_count": 33,
   "metadata": {},
   "outputs": [
    {
     "name": "stdout",
     "output_type": "stream",
     "text": [
      "hello world itheima and itheimaApp\n",
      "hello world itheima and itheimaApp\n"
     ]
    }
   ],
   "source": [
    "# rstrip 函数 函数用于截取字符串末尾的空格或指定字符，返回的是一个新的字符串\n",
    "old_str1 = 'hello world itheima and itheimaApp    '\n",
    "old_str2 = 'hello world itheima and itheimaApp！！！！！！'\n",
    "new_str1 = old_str1.rstrip()\n",
    "new_str2 = old_str2.rstrip('！')\n",
    "print(new_str1)\n",
    "print(new_str2)"
   ]
  },
  {
   "cell_type": "code",
   "execution_count": 36,
   "metadata": {},
   "outputs": [
    {
     "name": "stdout",
     "output_type": "stream",
     "text": [
      "hello world itheima and itheimaApp\n",
      "hello world itheima and itheimaApp\n",
      "2187041994424\n"
     ]
    }
   ],
   "source": [
    "# strip 函数 用于移除字符串头尾指定的字符（默认空格）\n",
    "old_str1 = '   hello world itheima and itheimaApp   '\n",
    "old_str2 = '！！！！hello world itheima and itheimaApp！！！！'\n",
    "new_str1 = old_str1.strip()\n",
    "new_str2 = old_str2.strip('！')\n",
    "print(new_str1)\n",
    "print(new_str2)\n",
    "print(id(new_str2))"
   ]
  }
 ],
 "metadata": {
  "kernelspec": {
   "display_name": "Python 3",
   "language": "python",
   "name": "python3"
  },
  "language_info": {
   "codemirror_mode": {
    "name": "ipython",
    "version": 3
   },
   "file_extension": ".py",
   "mimetype": "text/x-python",
   "name": "python",
   "nbconvert_exporter": "python",
   "pygments_lexer": "ipython3",
   "version": "3.6.4"
  }
 },
 "nbformat": 4,
 "nbformat_minor": 2
}
