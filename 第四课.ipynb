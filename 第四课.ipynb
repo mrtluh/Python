{
 "cells": [
  {
   "cell_type": "code",
   "execution_count": 1,
   "metadata": {},
   "outputs": [
    {
     "name": "stdout",
     "output_type": "stream",
     "text": [
      "去叫家长吧，孩子\n",
      "我们不带你玩\n",
      "滚求的\n"
     ]
    }
   ],
   "source": [
    "age=17\n",
    "if age<18:\n",
    "    print(\"去叫家长吧，孩子\")\n",
    "    print(\"我们不带你玩\")\n",
    "    print(\"滚求的\")"
   ]
  },
  {
   "cell_type": "code",
   "execution_count": 2,
   "metadata": {},
   "outputs": [
    {
     "name": "stdout",
     "output_type": "stream",
     "text": [
      "开始上车楼，老司机们\n"
     ]
    }
   ],
   "source": [
    "age=19\n",
    "if age<18:\n",
    "    print(\"去叫家长吧，孩子\")\n",
    "    print(\"我们不带你玩\")\n",
    "    print(\"滚求的\")\n",
    "print(\"开始上车楼，老司机们\")"
   ]
  },
  {
   "cell_type": "code",
   "execution_count": 4,
   "metadata": {},
   "outputs": [
    {
     "name": "stdout",
     "output_type": "stream",
     "text": [
      "请输入性别:nan\n",
      "你输入的性别是:nan\n",
      "来我们纪念一下今天吧，代码敲十遍\n",
      "开始上课了\n"
     ]
    }
   ],
   "source": [
    "gender = input(\"请输入性别:\")\n",
    "print(\"你输入的性别是:{0}\".format(gender))\n",
    "if gender == \"nan\":\n",
    "    print(\"来我们纪念一下今天吧，代码敲十遍\")\n",
    "else:\n",
    "        print(\"发糖喽发糖喽\")\n",
    "print(\"开始上课了\")\n"
   ]
  },
  {
   "cell_type": "code",
   "execution_count": 6,
   "metadata": {},
   "outputs": [
    {
     "name": "stdout",
     "output_type": "stream",
     "text": [
      "请输入性别:ass\n",
      "你输入的性别是:ass\n",
      "发糖喽发糖喽\n",
      "你是女生，特殊照顾喽\n",
      "开始上课了\n"
     ]
    }
   ],
   "source": [
    "gender = input(\"请输入性别:\")\n",
    "print(\"你输入的性别是:{0}\".format(gender))\n",
    "if gender == \"nan\":\n",
    "    print(\"来我们纪念一下今天吧，代码敲十遍\")\n",
    "else:\n",
    "        print(\"发糖喽发糖喽\")\n",
    "        print(\"你是女生，特殊照顾喽\")\n",
    "print(\"开始上课了\")"
   ]
  },
  {
   "cell_type": "code",
   "execution_count": 10,
   "metadata": {},
   "outputs": [
    {
     "name": "stdout",
     "output_type": "stream",
     "text": [
      "请输入学生成绩：65\n",
      "您输入的成绩是：65\n",
      "您的成绩为D，加油哦\n"
     ]
    }
   ],
   "source": [
    "score=input(\"请输入学生成绩：\")\n",
    "print(\"您输入的成绩是：{0}\".format(score))\n",
    "score = int(score)# 需要把str转换成int\n",
    "if score>=90:\n",
    "    print(\"恭喜，您获得A！\")\n",
    "if 80<=score<90:\n",
    "    print(\"恭喜，您获得B！\")\n",
    "if 70<=score<80:\n",
    "    print(\"您的成绩为C，加油哦！\")\n",
    "if 60<=score<70:\n",
    "    print(\"您的成绩为D，加油哦！\")\n",
    "if score<60:\n",
    "    print(\"很遗憾，您没及格，请继续努力！\")"
   ]
  },
  {
   "cell_type": "code",
   "execution_count": 11,
   "metadata": {},
   "outputs": [
    {
     "name": "stdout",
     "output_type": "stream",
     "text": [
      "请输入学生成绩：54\n",
      "您输入的成绩是：54\n",
      "很遗憾，您没及格，请继续努力！\n"
     ]
    }
   ],
   "source": [
    "score=input(\"请输入学生成绩：\")\n",
    "print(\"您输入的成绩是：{0}\".format(score))\n",
    "score = int(score)# 需要把str转换成int\n",
    "if score>=90:\n",
    "    print(\"恭喜，您获得A！\")\n",
    "elif score>=80:\n",
    "    print(\"恭喜，您获得B！\")\n",
    "elif score>=70:\n",
    "    print(\"您的成绩为C，加油哦！\")\n",
    "elif score>=60:\n",
    "    print(\"您的成绩为D，加油哦！\")\n",
    "else :\n",
    "    print(\"很遗憾，您没及格，请继续努力！\")"
   ]
  },
  {
   "cell_type": "code",
   "execution_count": 32,
   "metadata": {},
   "outputs": [
    {
     "name": "stdout",
     "output_type": "stream",
     "text": [
      "78\n",
      "有中奖号码78恭喜您，中奖了\n",
      "77\n",
      "很遗憾，您没中奖\n",
      "56\n",
      "很遗憾，您没中奖\n",
      "78\n",
      "有中奖号码78恭喜您，中奖了\n",
      "89\n",
      "很遗憾，您没中奖\n",
      "56\n",
      "很遗憾，您没中奖\n",
      "25\n",
      "很遗憾，您没中奖\n",
      "78\n",
      "有中奖号码78恭喜您，中奖了\n",
      "21\n",
      "很遗憾，您没中奖\n"
     ]
    }
   ],
   "source": [
    "for t in [78,77,56,78,89,56,25,78,21]:\n",
    "    print(t)\n",
    "    if t == 78:\n",
    "        print(\"有中奖号码{0}恭喜您，中奖了\".format(t))\n",
    "    else:\n",
    "        print(\"很遗憾，您没中奖\")\n",
    "        \n",
    "    "
   ]
  },
  {
   "cell_type": "code",
   "execution_count": 22,
   "metadata": {},
   "outputs": [
    {
     "name": "stdout",
     "output_type": "stream",
     "text": [
      "1\n",
      "2\n",
      "3\n",
      "4\n",
      "5\n",
      "6\n",
      "7\n",
      "8\n",
      "9\n",
      "10\n"
     ]
    }
   ],
   "source": [
    "for i in range(1,11):\n",
    "    print(i)"
   ]
  },
  {
   "cell_type": "code",
   "execution_count": 23,
   "metadata": {},
   "outputs": [
    {
     "name": "stdout",
     "output_type": "stream",
     "text": [
      "1\n",
      "2\n",
      "3\n",
      "4\n",
      "5\n",
      "6\n",
      "我找到了\n"
     ]
    }
   ],
   "source": [
    "for i in range(1,11):\n",
    "    if i == 7:\n",
    "        print(\"我找到了\")\n",
    "        break\n",
    "    else:\n",
    "        print(i)"
   ]
  },
  {
   "cell_type": "code",
   "execution_count": 24,
   "metadata": {},
   "outputs": [
    {
     "name": "stdout",
     "output_type": "stream",
     "text": [
      "2是偶数\n",
      "4是偶数\n",
      "6是偶数\n",
      "8是偶数\n",
      "10是偶数\n"
     ]
    }
   ],
   "source": [
    "for i in range(1,11):\n",
    "    if i % 2 == 1:\n",
    "        continue\n",
    "    else:\n",
    "        print(\"{0}是偶数\".format(i))"
   ]
  },
  {
   "cell_type": "code",
   "execution_count": 27,
   "metadata": {},
   "outputs": [
    {
     "name": "stdout",
     "output_type": "stream",
     "text": [
      "当前字母： R\n",
      "当前字母： u\n",
      "当前字母： n\n",
      "执行pass块\n",
      "当前字母： o\n",
      "执行pass块\n",
      "当前字母： o\n",
      "当前字母： b\n",
      "good bye\n"
     ]
    }
   ],
   "source": [
    "for letter in 'Runoob':\n",
    "    if letter == 'o':\n",
    "        pass\n",
    "        print('执行pass块')\n",
    "    print(\"当前字母：\",letter)\n",
    "print('good bye')\n",
    "    \n",
    "    "
   ]
  }
 ],
 "metadata": {
  "kernelspec": {
   "display_name": "Python 3",
   "language": "python",
   "name": "python3"
  },
  "language_info": {
   "codemirror_mode": {
    "name": "ipython",
    "version": 3
   },
   "file_extension": ".py",
   "mimetype": "text/x-python",
   "name": "python",
   "nbconvert_exporter": "python",
   "pygments_lexer": "ipython3",
   "version": "3.6.3"
  }
 },
 "nbformat": 4,
 "nbformat_minor": 2
}
