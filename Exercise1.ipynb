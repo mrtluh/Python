{
 "cells": [
  {
   "cell_type": "code",
   "execution_count": 5,
   "metadata": {},
   "outputs": [
    {
     "name": "stdout",
     "output_type": "stream",
     "text": [
      "有车票，可以进站\n",
      "没通过安检\n",
      "刀子的长度超过规定，等候警察的处理...\n"
     ]
    }
   ],
   "source": [
    "tecket = 1\n",
    "knife_length = 10\n",
    "if tecket == 1:\n",
    "    print(\"有车票，可以进站\")\n",
    "    if knife_length < 10:\n",
    "        print(\"通过安检\")\n",
    "        print(\"终于可以看到她了，美滋滋～～～\")\n",
    "    else:\n",
    "        print(\"没通过安检\")\n",
    "        print(\"刀子的长度超过规定，等候警察的处理...\")\n",
    "else:\n",
    "    print(\"没车票，不可进站\")\n",
    "    print(\"亲爱的，那就下次再见了，一票难求啊～～～(>_<)～～～\")"
   ]
  },
  {
   "cell_type": "code",
   "execution_count": 14,
   "metadata": {},
   "outputs": [
    {
     "name": "stdout",
     "output_type": "stream",
     "text": [
      "请输入(剪刀、石头、布：)石头\n",
      "电脑出的拳头是:布，很遗憾，你输了！\n"
     ]
    }
   ],
   "source": [
    "# 猜拳游戏\n",
    "import random\n",
    "player_input = input(\"请输入(剪刀、石头、布：)\")\n",
    "b = (0,1,2)\n",
    "if player_input == \"剪刀\":\n",
    "    b = 0\n",
    "elif player_input == \"石头\":\n",
    "    b = 1\n",
    "else:\n",
    "    b = 2\n",
    "player = int(b)    \n",
    "computer = random.randint(0,2)\n",
    "if (player == 0 and computer == 2):\n",
    "    print(\"电脑出的拳头是:布，恭喜你，你赢了！\")\n",
    "elif (player == 1 and computer == 0):\n",
    "    print(\"电脑出的拳头是:剪刀，恭喜你，你赢了！\")\n",
    "elif (player == 2 and computer == 1):\n",
    "    print(\"电脑出的拳头是:石头，恭喜你，你赢了！\")\n",
    "elif (player == 0 and computer == 0):\n",
    "    print(\"电脑出的拳头是:剪刀，打成平局了！\")\n",
    "elif (player == 1 and computer == 1):\n",
    "    print(\"电脑出的拳头是:石头，打成平局了！\")\n",
    "elif (player == 2 and computer == 2):\n",
    "    print(\"电脑出的拳头是:布，打成平局了！\")\n",
    "elif (player == 0 and computer == 1):\n",
    "    print(\"电脑出的拳头是:石头，很遗憾，你输了！\")\n",
    "elif (player == 1 and computer == 2):\n",
    "    print(\"电脑出的拳头是:布，很遗憾，你输了！\")\n",
    "else:\n",
    "    print(\"电脑出的拳头是：剪刀，很遗憾，你输了\")\n",
    "\n"
   ]
  },
  {
   "cell_type": "code",
   "execution_count": null,
   "metadata": {
    "collapsed": true
   },
   "outputs": [],
   "source": []
  }
 ],
 "metadata": {
  "kernelspec": {
   "display_name": "Python 3",
   "language": "python",
   "name": "python3"
  },
  "language_info": {
   "codemirror_mode": {
    "name": "ipython",
    "version": 3
   },
   "file_extension": ".py",
   "mimetype": "text/x-python",
   "name": "python",
   "nbconvert_exporter": "python",
   "pygments_lexer": "ipython3",
   "version": "3.6.3"
  }
 },
 "nbformat": 4,
 "nbformat_minor": 2
}
