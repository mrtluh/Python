{
 "cells": [
  {
   "cell_type": "code",
   "execution_count": 1,
   "metadata": {},
   "outputs": [
    {
     "name": "stdout",
     "output_type": "stream",
     "text": [
      "zhangsan\n",
      "1\n",
      "['zhangsan', '李四', '孙悟空']\n"
     ]
    }
   ],
   "source": [
    "# 列表的基本使用\n",
    "name_list = [\"zhangsan\",\"lisi\",\"wangwu\"]\n",
    "# 1.取值\n",
    "print(name_list[0])\n",
    "print(name_list.index(\"lisi\"))\n",
    "# 2.修改\n",
    "# 3.增加\n",
    "name_list[1] = \"李四\"\n",
    "name_list.append(\"zhaoliu\")\n",
    "name_list.insert(1,\"maqi\")\n",
    "temp_list = [\"孙悟空\",\"猪八戒\"]\n",
    "name_list.extend(temp_list)\n",
    "# 4.删除\n",
    "name_list.remove(\"wangwu\")\n",
    "name_list.pop()\n",
    "# pop函数默认删除列表的最后一项\n",
    "name_list.pop(1)\n",
    "#pop方法可以指定删除元素索引\n",
    "#name_list.clear()\n",
    "del name_list[2]\n",
    "print(name_list)"
   ]
  },
  {
   "cell_type": "code",
   "execution_count": null,
   "metadata": {},
   "outputs": [],
   "source": [
    "# 列表的数据统计\n",
    "name_list = [\"张三\",\"李四\",\"王五\",\"张三\"]\n",
    "list_len = len(name_list)\n",
    "count = name_list.count(\"张三\")\n",
    "print(list_len)\n",
    "print(\"张三一共出现了%d次\"%count)\n",
    "name_list.remove(\"张三\")\n",
    "print(name_list)"
   ]
  },
  {
   "cell_type": "code",
   "execution_count": null,
   "metadata": {},
   "outputs": [],
   "source": [
    "# 列表的排序\n",
    "name_list = [\"zhangsan\",\"lisi\",\"wangwu\",\"wangxiaoer\"]\n",
    "num_list = [6,8,4,1,9,4,10]\n",
    "\n",
    "\n",
    "#  升序\n",
    "name_list.sort()\n",
    "num_list.sort()\n",
    "# 降序\n",
    "name_list.sort(reverse=True)\n",
    "num_list.sort(reverse=True)\n",
    "# 逆序\n",
    "name_list.reverse()\n",
    "num_list.reverse()\n",
    "\n",
    "print(name_list)\n",
    "print(num_list)"
   ]
  },
  {
   "cell_type": "code",
   "execution_count": null,
   "metadata": {},
   "outputs": [],
   "source": [
    "# 列表的循环遍历\n",
    "name_list = [\"zhangsan\",\"lisi\",\"wangwu\",\"wangxiaoer\"]\n",
    "num_list = [6,8,4,1,9,4,10]\n",
    "\n",
    "#  使用迭代遍历列表\n",
    "for name_1 in name_list:\n",
    "\tprint(name_1)\n",
    "for num_1 in num_list:\n",
    "\tprint(num_1)"
   ]
  },
  {
   "cell_type": "code",
   "execution_count": null,
   "metadata": {},
   "outputs": [],
   "source": [
    "# 在列表中查找元素\n",
    "name_list = [\"zhangsan\",\"lisi\",\"wangwu\",\"wangxiaoer\"]\n",
    "num_list = [6,8,4,1,9,4,10]\n",
    "find_name = \"wangxiaojing\"\n",
    "if find_name in name_list:\n",
    "\tprint(\"列表中有%s\"%find_name)\n",
    "else:\n",
    "\tprint(\"列表中没有%s\"%find_name)"
   ]
  },
  {
   "cell_type": "code",
   "execution_count": null,
   "metadata": {},
   "outputs": [],
   "source": [
    "# 元组的基本使用\n",
    "\n",
    "name_tuple = (\"zhangsan\",\"lisi\",\"wangwu\",\"wangxiaoer\")\n",
    "num_tuple = (6,8,4,1,9,4,10)\n",
    "print(name_tuple.index(\"lisi\"))\n",
    "print(name_tuple.count(\"wangwu\"))\n",
    "print(num_tuple[2])\n",
    "print(len(num_tuple))"
   ]
  },
  {
   "cell_type": "code",
   "execution_count": null,
   "metadata": {},
   "outputs": [],
   "source": [
    "# 元组的内置函数\n",
    "\n",
    "name_tuple = (\"zhangsan\",25,\"wangxiaoer\")\n",
    "num_tuple = (6,8,4,1,9,4,10)\n",
    "for my_name in name_tuple:\n",
    "\tprint(my_name)\n",
    "print(max(num_tuple))"
   ]
  },
  {
   "cell_type": "code",
   "execution_count": null,
   "metadata": {},
   "outputs": [],
   "source": [
    "# 格式化字符串\n",
    "\n",
    "info_tuple = (\"小明\",20,1.75)\n",
    "#print(\"%s年龄是%d,身高是%.2f\"%info_tuple)\n",
    "info_str = \"%s年龄是%d,身高是%.2f\"%info_tuple\n",
    "print(info_str)"
   ]
  },
  {
   "cell_type": "code",
   "execution_count": 2,
   "metadata": {},
   "outputs": [
    {
     "name": "stdout",
     "output_type": "stream",
     "text": [
      "{'name': '小明', 'gender': 'True', 'age': 18, 'height': 1.75, 'weight': 60}\n"
     ]
    }
   ],
   "source": [
    "# 字典的定义\n",
    "\n",
    "xiaoming_dict = {\"name\":\"小明\",\n",
    "\t\t\t\t \"gender\":\"True\",\n",
    "\t\t\t\t \"age\":18,\n",
    "\t\t\t\t \"height\":1.75,\n",
    "\t\t\t\t \"weight\":60}\n",
    "print(xiaoming_dict)"
   ]
  },
  {
   "cell_type": "code",
   "execution_count": 3,
   "metadata": {},
   "outputs": [
    {
     "name": "stdout",
     "output_type": "stream",
     "text": [
      "小明\n",
      "True\n",
      "{'name': '小小明', 'age': 18, 'weight': 60, 'score': 69}\n"
     ]
    }
   ],
   "source": [
    "# 字典的基本使用\n",
    "\n",
    "xiaoming_dict = {\"name\":\"小明\",\n",
    "\t\t\t\t \"gender\":\"True\",\n",
    "\t\t\t\t \"age\":18,\n",
    "\t\t\t\t \"height\":1.75,\n",
    "\t\t\t\t \"weight\":60}\n",
    "print(xiaoming_dict[\"name\"])\n",
    "print(xiaoming_dict[\"gender\"])\n",
    "xiaoming_dict[\"name\"] = \"小小明\"\n",
    "xiaoming_dict.pop(\"height\")\n",
    "xiaoming_dict[\"score\"] = 69\n",
    "del xiaoming_dict[\"gender\"]\n",
    "print(xiaoming_dict)"
   ]
  },
  {
   "cell_type": "code",
   "execution_count": 4,
   "metadata": {},
   "outputs": [
    {
     "name": "stdout",
     "output_type": "stream",
     "text": [
      "5\n",
      "{}\n"
     ]
    }
   ],
   "source": [
    "# 字典的其他操作\n",
    "\n",
    "xiaoming_dict = {\"name\":\"小明\",\n",
    "\t\t\t\t \"gender\":\"True\",\n",
    "\t\t\t\t \"age\":18,\n",
    "\t\t\t\t \"height\":1.75,\n",
    "\t\t\t\t \"weight\":60}\n",
    "print(len(xiaoming_dict))\n",
    "tem_dict = {\"score\":89,\n",
    "\t\t\t\"age\":20}\n",
    "xiaoming_dict.update(tem_dict)\n",
    "\n",
    "xiaoming_dict.clear()\n",
    "print(xiaoming_dict)"
   ]
  },
  {
   "cell_type": "code",
   "execution_count": 5,
   "metadata": {},
   "outputs": [
    {
     "name": "stdout",
     "output_type": "stream",
     "text": [
      "('name', '小明')\n",
      "('gender', 'True')\n",
      "('age', 18)\n",
      "('height', 1.75)\n",
      "('weight', 60)\n",
      "name:小明\n",
      "gender:True\n",
      "age:18\n",
      "height:1.75\n",
      "weight:60\n"
     ]
    }
   ],
   "source": [
    "# 字典的循环遍历\n",
    "\n",
    "xiaoming_dict = {\"name\":\"小明\",\n",
    "\t\t\t\t \"gender\":\"True\",\n",
    "\t\t\t\t \"age\":18,\n",
    "\t\t\t\t \"height\":1.75,\n",
    "\t\t\t\t \"weight\":60}\n",
    "for xiaoming_info in xiaoming_dict.items():\n",
    "\tprint(xiaoming_info)\n",
    "for info_ in xiaoming_dict:\n",
    "\tprint(\"%s:%s\"%(info_,xiaoming_dict[info_]))"
   ]
  },
  {
   "cell_type": "code",
   "execution_count": null,
   "metadata": {},
   "outputs": [],
   "source": [
    "# 字典的应用场景\n",
    "\n",
    "xiaoming_dict = {\"name\":\"小明\",\n",
    "\t\t\t\t \"gender\":\"True\",\n",
    "\t\t\t\t \"age\":18,\n",
    "\t\t\t\t \"height\":1.75,\n",
    "\t\t\t\t \"weight\":60}\n",
    "for xiaoming_info in xiaoming_dict.items():\n",
    "\tprint(xiaoming_info)\n",
    "for info_ in xiaoming_dict:\n",
    "\tprint(\"%s:%s\"%(info_,xiaoming_dict[info_]))"
   ]
  },
  {
   "cell_type": "code",
   "execution_count": null,
   "metadata": {},
   "outputs": [],
   "source": [
    "# 字符串的统计操作\n",
    "\n",
    "hello_str = \"hello python\"\n",
    "print(len(hello_str))\n",
    "print(hello_str.count(\"ell\"))\n",
    "print(hello_str.index(\"ell\"))"
   ]
  },
  {
   "cell_type": "code",
   "execution_count": null,
   "metadata": {},
   "outputs": [],
   "source": [
    "# 字符串的查找和替换\n",
    "\n",
    "hello_str = \"hello world\"\n",
    "print(hello_str.find(\"el\"))\n",
    "print(hello_str.find(\"abc\"))\n",
    "print(hello_str.index(\"el\"))\n",
    "#print(hello_str.index(\"abc\"))\n",
    "print(hello_str.replace(\"he\",\"He\"))\n"
   ]
  },
  {
   "cell_type": "code",
   "execution_count": null,
   "metadata": {},
   "outputs": [],
   "source": [
    "# 字符串的判断方法\n",
    "\n",
    "num_str = \"1.1\"\n",
    "print(num_str.isdecimal())\n",
    "print(num_str.isdigit())\n",
    "print(num_str.isnumeric())"
   ]
  },
  {
   "cell_type": "code",
   "execution_count": 7,
   "metadata": {},
   "outputs": [
    {
     "name": "stdout",
     "output_type": "stream",
     "text": [
      "|　　　登鹳雀楼　　　|\n",
      "|　　　王焕之　　　　|\n",
      "|　　白日依山尽　　　|\n",
      "|　　黄河入海流　　　|\n",
      "|　　欲穷千里目　　　|\n",
      "|　　更上一层楼　　　|\n"
     ]
    }
   ],
   "source": [
    "# 字符串的对齐\n",
    "\n",
    "poem = [\"登鹳雀楼\",\n",
    "\t\t\"王焕之\",\n",
    "\t\t\"\\n白日依山尽\",\n",
    "\t\t\"黄河入海流\",\n",
    "\t\t\"欲穷千里目\\t\",\n",
    "\t\t\"更上一层楼\"]\n",
    "for poem_str in poem:\n",
    "\tprint(\"|%s|\"%poem_str.strip().center(10,\"　\"))"
   ]
  },
  {
   "cell_type": "code",
   "execution_count": 6,
   "metadata": {},
   "outputs": [
    {
     "name": "stdout",
     "output_type": "stream",
     "text": [
      "登鹳雀楼\t王焕之\t 白日依山尽\t \n",
      " 黄河入海流\t\t 欲穷千里目\n",
      " 更上一层楼\t\n",
      "['登鹳雀楼', '王焕之', '白日依山尽', '黄河入海流', '欲穷千里目', '更上一层楼']\n",
      "登鹳雀楼 王焕之 白日依山尽 黄河入海流 欲穷千里目 更上一层楼\n"
     ]
    }
   ],
   "source": [
    "# 字符串的拆分和拼接\n",
    "\n",
    "poem_str = \"登鹳雀楼\\t王焕之\\t 白日依山尽\\t \\n 黄河入海流\\t\\t 欲穷千里目\\n 更上一层楼\\t\"\n",
    "# poem_list = [poem_str]\n",
    "# print(poem_list)\n",
    "# for poem_char in poem_list:\n",
    "# \tprint(poem_char.strip())\n",
    "print(poem_str)\n",
    "poem_list = poem_str.split()\n",
    "print(poem_list)\n",
    "result = \" \".join(poem_list)\n",
    "print(result)\n"
   ]
  }
 ],
 "metadata": {
  "kernelspec": {
   "display_name": "Python 3",
   "language": "python",
   "name": "python3"
  },
  "language_info": {
   "codemirror_mode": {
    "name": "ipython",
    "version": 3
   },
   "file_extension": ".py",
   "mimetype": "text/x-python",
   "name": "python",
   "nbconvert_exporter": "python",
   "pygments_lexer": "ipython3",
   "version": "3.6.0"
  }
 },
 "nbformat": 4,
 "nbformat_minor": 2
}
