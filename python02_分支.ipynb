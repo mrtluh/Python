{
 "cells": [
  {
   "cell_type": "code",
   "execution_count": null,
   "metadata": {},
   "outputs": [],
   "source": [
    "age = 19\n",
    "if age >= 18:\n",
    "\tprint(\"您已成年，欢迎进网吧嗨皮！\")\n",
    "\tprint(\"欢饮欢饮，热烈欢迎\")\n",
    "else:\n",
    "\tprint(\"您未成年，不得进入！\")"
   ]
  },
  {
   "cell_type": "code",
   "execution_count": null,
   "metadata": {},
   "outputs": [],
   "source": [
    "usr_age = int(input(\"请输入您的年龄：\"))\n",
    "if usr_age >= 18:\n",
    "\tprint(\"您已成年，欢饮来网吧嗨皮！\")\n",
    "else:\n",
    "\tprint(\"您未成年，回家写作业去吧！\")\n",
    "print(\"未成年禁止入内！！！\")"
   ]
  },
  {
   "cell_type": "code",
   "execution_count": null,
   "metadata": {},
   "outputs": [],
   "source": [
    "age = 0\n",
    "if age >= 0 and age <= 120:\n",
    "\tprint(\"年龄正确\")\n",
    "else:\n",
    "\tprint(\"年龄不正确，请重新输入！\")"
   ]
  },
  {
   "cell_type": "code",
   "execution_count": null,
   "metadata": {},
   "outputs": [],
   "source": [
    "python_score = 23\n",
    "c_score = 28\n",
    "if python_score >= 60 or c_score >= 60:\n",
    "\tprint(\"成绩合格\")\n",
    "else:\n",
    "\tprint(\"成绩不合格，请继续努力！\")"
   ]
  },
  {
   "cell_type": "code",
   "execution_count": null,
   "metadata": {},
   "outputs": [],
   "source": [
    "# 布尔运算\n",
    "is_employee = False\n",
    "if not is_employee:\n",
    "\tprint(\"非本公司人员，不得入内！\")"
   ]
  },
  {
   "cell_type": "code",
   "execution_count": null,
   "metadata": {},
   "outputs": [],
   "source": [
    "# 练习\n",
    "holiday_name = input(\"请输入节日名称：\")\n",
    "if holiday_name == \"情人节\":\n",
    "\tprint(\"买玫瑰/看电影\")\n",
    "elif holiday_name == \"平安夜\":\n",
    "\tprint(\"买苹果/吃大餐\")\n",
    "elif holiday_name == \"生日\":\n",
    "\tprint(\"买蛋糕\")\n",
    "else:\n",
    "\tprint(\"每天都是节日呀......\")"
   ]
  },
  {
   "cell_type": "code",
   "execution_count": null,
   "metadata": {},
   "outputs": [],
   "source": [
    "# 火车站安检\n",
    "has_ticket = True\n",
    "knife_length = 21\n",
    "if not not has_ticket:\n",
    "\tprint(\"请进行安检！\")\n",
    "\tif knife_length > 20:\n",
    "\t\tprint(\"刀子长度为{}cm,超过规定，不允许进站\".format(knife_length))\n",
    "\telse:\n",
    "\t\tprint(\"安检通过，谢谢配合\")\n",
    "else:\n",
    "\tprint(\"无票，不能进站，请至购票区买票！\")"
   ]
  },
  {
   "cell_type": "code",
   "execution_count": null,
   "metadata": {},
   "outputs": [],
   "source": [
    "# 小游戏 石头、剪刀、布\n",
    "\n",
    "import random\n",
    "play_1 = input(\"请输入您出的拳:('石头''剪刀'或'布')\")\n",
    "cum_1 = int(random.randint(1,3))\n",
    "if play_1 == '石头':\n",
    "\tplay_1 = 1\n",
    "elif play_1 == '剪刀':\n",
    "\tplay_1 =2\n",
    "elif play_1 == '布':\n",
    "\tplay_1 = 3\n",
    "else:\n",
    "\tprint(\"输入不正确!请输入'石头''剪刀'或'布'\")\n",
    "if ((play_1 == 1 and cum_1 == 2)\n",
    "\t\t\tor (play_1 == 2 and cum_1 == 3)\n",
    "\t\t\tor (play_1 == 3 and cum_1 == 1)):\n",
    "\tif cum_1 == 1:\n",
    "\t\tcum_1 = '石头'\n",
    "\tif cum_1 == 2:\n",
    "\t\tcum_1 = '剪刀'\n",
    "\telse:\n",
    "\t\tcum_1 = '布'\n",
    "\tprint(\"电脑出的拳头为%s,恭喜你你赢了!\"%cum_1)\n",
    "elif ((play_1 == 1 and cum_1 == 3)\n",
    "\t\t  or (play_1 == 2 and cum_1 == 1)\n",
    "\t\t  or (play_1 == 3 and cum_1 == 2)):\n",
    "\tif cum_1 == 1:\n",
    "\t\tcum_1 = '石头'\n",
    "\tif cum_1 == 2:\n",
    "\t\tcum_1 = '剪刀'\n",
    "\telse:\n",
    "\t\tcum_1 = '布'\n",
    "\tprint(\"电脑出的拳头为%s,很遗憾你输了\"%cum_1)\n",
    "elif (play_1 == 1 and cum_1 == 1) or (play_1 == 2 and cum_1 == 2) or (play_1 == 3 and cum_1 == 3):\n",
    "\tif cum_1 == 1:\n",
    "\t\tcum_1 = '石头'\n",
    "\tif cum_1 == 2:\n",
    "\t\tcum_1 = '剪刀'\n",
    "\telse:\n",
    "\t\tcum_1 = '布'\n",
    "\tprint(\"两人的拳头都为%s,打成平手\"%cum_1)\n",
    "print(\"游戏结束\")"
   ]
  }
 ],
 "metadata": {
  "kernelspec": {
   "display_name": "Python 3",
   "language": "python",
   "name": "python3"
  },
  "language_info": {
   "codemirror_mode": {
    "name": "ipython",
    "version": 3
   },
   "file_extension": ".py",
   "mimetype": "text/x-python",
   "name": "python",
   "nbconvert_exporter": "python",
   "pygments_lexer": "ipython3",
   "version": "3.6.0"
  }
 },
 "nbformat": 4,
 "nbformat_minor": 2
}
