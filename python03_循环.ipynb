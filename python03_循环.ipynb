{
 "cells": [
  {
   "cell_type": "code",
   "execution_count": null,
   "metadata": {},
   "outputs": [],
   "source": [
    "# 数字练习\n",
    "# 数字 1 2 3 4\n",
    "#  for i in range(1,5):\n",
    "# \tfor j in range(1,5):\n",
    "# \t\tfor k in range(1,5):\n",
    "# \t\t\tprint(i, j, k)\n",
    "i = 1\n",
    "sum_1 = 0\n",
    "while i < 5:\n",
    "\tj = 1\n",
    "\twhile j < 5:\n",
    "\t\tk =1\n",
    "\t\twhile k < 5:\n",
    "\t\t\tif (i - j) * (i - k) * (j - k)\t!= 0:\n",
    "\t\t\t\tprint(i, j, k)\n",
    "\t\t\t\tsum_1 += 1\n",
    "\t\t\tk += 1\n",
    "\t\tj += 1\n",
    "\ti += 1\n",
    "print(sum_1)\n",
    "print(\"The end\")"
   ]
  },
  {
   "cell_type": "code",
   "execution_count": null,
   "metadata": {},
   "outputs": [],
   "source": [
    "# while循环\n",
    "i = 0\n",
    "while i < 5:\n",
    "\tprint(\"Hello Python\")\n",
    "\ti += 1\n",
    "print(\"打印结束！\")"
   ]
  },
  {
   "cell_type": "code",
   "execution_count": null,
   "metadata": {},
   "outputs": [],
   "source": [
    "sum1 = 0\n",
    "for i in range(1,5):\n",
    "\tfor j in range(1,5):\n",
    "\t\tfor k in range(1,5):\n",
    "\t\t\tif (i - j) * (i - k) * (j - k) != 0:\n",
    "\t\t\t\tprint(i ,j ,k)\n",
    "\t\t\t\tsum1 += 1\n",
    "print(sum1)\n"
   ]
  },
  {
   "cell_type": "code",
   "execution_count": null,
   "metadata": {},
   "outputs": [],
   "source": [
    "# 计算求和\n",
    "i = 0\n",
    "sum_1 = 0\n",
    "while i < 101:\n",
    "\tsum_1 += i\n",
    "\ti += 1\n",
    "print(sum_1)"
   ]
  },
  {
   "cell_type": "code",
   "execution_count": null,
   "metadata": {},
   "outputs": [],
   "source": [
    "# 计算偶数和\n",
    "i = 1\n",
    "sum_1 = 0\n",
    "while i < 101:\n",
    "\tsum_1 += i\n",
    "\ti += 2\n",
    "print(sum_1)\n",
    "\n",
    "j = 0\n",
    "sum_2 = 0\n",
    "while j < 101:\n",
    "\tif j % 2 == 0:\n",
    "\t\tsum_2 += j\n",
    "\tj += 1\n",
    "print(sum_2)"
   ]
  },
  {
   "cell_type": "code",
   "execution_count": 1,
   "metadata": {},
   "outputs": [
    {
     "name": "stdout",
     "output_type": "stream",
     "text": [
      "0\n",
      "1\n",
      "2\n",
      "over\n"
     ]
    }
   ],
   "source": [
    "# break语句\n",
    "i = 0\n",
    "while i < 10:\n",
    "\t if i == 3:\n",
    "\t\t break\n",
    "\t print(i)\n",
    "\t i += 1\n",
    "print(\"over\")"
   ]
  },
  {
   "cell_type": "code",
   "execution_count": null,
   "metadata": {},
   "outputs": [],
   "source": [
    "# continue语句\n",
    "i = 0\n",
    "while i < 10:\n",
    "\tif i == 3:\n",
    "\t\ti += 1\n",
    "\t\tcontinue\n",
    "\tprint(i)\n",
    "\ti += 1\n",
    "print(\"over\")"
   ]
  },
  {
   "cell_type": "code",
   "execution_count": null,
   "metadata": {},
   "outputs": [],
   "source": [
    "# while嵌套练习\n",
    "#  方法一\n",
    "i = 0\n",
    "while i < 5:\n",
    "\ti += 1\n",
    "\tprint(\"* \" * i)\n",
    "print(\"The end\")\n"
   ]
  },
  {
   "cell_type": "code",
   "execution_count": null,
   "metadata": {},
   "outputs": [],
   "source": [
    "# while嵌套\n",
    "j = 0\n",
    "while j < 5:\n",
    "\tk = 0\n",
    "\twhile k <= j:\n",
    "\t\tprint(\"* \",end = \"\")\n",
    "        k += 1\n",
    "\tprint(\"/n\")\n",
    "    j += 1\n",
    "print(\"The end\")"
   ]
  },
  {
   "cell_type": "code",
   "execution_count": 2,
   "metadata": {},
   "outputs": [
    {
     "name": "stdout",
     "output_type": "stream",
     "text": [
      "1x1= 1 \n",
      "1x2= 2 2x2= 4 \n",
      "1x3= 3 2x3= 6 3x3= 9 \n",
      "1x4= 4 2x4= 8 3x4=12 4x4=16 \n",
      "1x5= 5 2x5=10 3x5=15 4x5=20 5x5=25 \n",
      "1x6= 6 2x6=12 3x6=18 4x6=24 5x6=30 6x6=36 \n",
      "1x7= 7 2x7=14 3x7=21 4x7=28 5x7=35 6x7=42 7x7=49 \n",
      "1x8= 8 2x8=16 3x8=24 4x8=32 5x8=40 6x8=48 7x8=56 8x8=64 \n",
      "1x9= 9 2x9=18 3x9=27 4x9=36 5x9=45 6x9=54 7x9=63 8x9=72 9x9=81 \n"
     ]
    }
   ],
   "source": [
    "# 9 x 9 九九乘法表\n",
    "\n",
    "i = 0\n",
    "while i < 9:\n",
    "\tj = 0\n",
    "\twhile j <= i:\n",
    "\t\tprint(\"%dx%d=%2d \"%((j + 1),(i + 1),((i + 1) * (j + 1))),end = '')\n",
    "\t\tj += 1\n",
    "\tprint()\n",
    "\ti += 1"
   ]
  }
 ],
 "metadata": {
  "kernelspec": {
   "display_name": "Python 3",
   "language": "python",
   "name": "python3"
  },
  "language_info": {
   "codemirror_mode": {
    "name": "ipython",
    "version": 3
   },
   "file_extension": ".py",
   "mimetype": "text/x-python",
   "name": "python",
   "nbconvert_exporter": "python",
   "pygments_lexer": "ipython3",
   "version": "3.6.0"
  }
 },
 "nbformat": 4,
 "nbformat_minor": 2
}
