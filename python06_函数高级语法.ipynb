{
 "cells": [
  {
   "cell_type": "code",
   "execution_count": null,
   "metadata": {},
   "outputs": [],
   "source": [
    "list_demo = [1,2,1,3]\n",
    "nums = set(list_demo)\n",
    "print(nums)\n",
    "for i in nums:\n",
    "\tprint(i)\n",
    "dict_demo = {'a':1,'b':2,'a':4}\n",
    "print(dict_demo[\"a\"])"
   ]
  },
  {
   "cell_type": "code",
   "execution_count": null,
   "metadata": {},
   "outputs": [],
   "source": [
    "# 在函数内部不允许修改全局变量\n",
    "\n",
    "num = 10\n",
    "\n",
    "def demo1():\n",
    "\n",
    "\n",
    "\tnum = 99\n",
    "\n",
    "\tprint(\"demo1 ==> %d\" % num)\n",
    "\n",
    "def demo2():\n",
    "\tprint(\"demo2 ==> %d\" % num)"
   ]
  },
  {
   "cell_type": "code",
   "execution_count": null,
   "metadata": {},
   "outputs": [],
   "source": [
    "# 修改全局变量\n",
    "\n",
    "num = 10\n",
    "\n",
    "\n",
    "def demo1():\n",
    "\tglobal num\n",
    "\t#  global 关键字会告诉解释器后面定义的变量是全局变量\n",
    "\tnum = 99\n",
    "\n",
    "\tprint(\"demo1 ==> %d\" % num)\n",
    "\n",
    "\n",
    "def demo2():\n",
    "\tprint(\"demo2 ==> %d\" % num)"
   ]
  },
  {
   "cell_type": "code",
   "execution_count": null,
   "metadata": {},
   "outputs": [],
   "source": [
    "# 全局变量的位置\n",
    "\n",
    "num = 10\n",
    "name = \"小明\"\n",
    "title = \"黑马程序员\"\n",
    "\n",
    "def demo1():\n",
    "\n",
    "\tprint(\"demo1 ==> %d\" % num)\n",
    "\tprint(\"demo1 ==> %s\" % title)\n",
    "\tprint(\"demo1 ==> %s\" % name)\n",
    "\n",
    "\n",
    "demo1()"
   ]
  },
  {
   "cell_type": "code",
   "execution_count": null,
   "metadata": {},
   "outputs": [],
   "source": [
    "# 函数多个返回值\n",
    "\n",
    "def measure():\n",
    "\tprint(\"测量开始。。\")\n",
    "\ttem = 39\n",
    "\twetness = 50\n",
    "\tprint(\"测量结束\")\n",
    "\treturn tem, wetness\n",
    "result = measure()\n",
    "print(result)\n",
    "gl_tem , gl_wet = measure()\n",
    "\n",
    "print(gl_tem)\n",
    "print(gl_wet)\n"
   ]
  },
  {
   "cell_type": "code",
   "execution_count": null,
   "metadata": {},
   "outputs": [],
   "source": [
    "# 交换数字\n",
    "\n",
    "#  不使用其他变量，交换a b\n",
    "a = 6\n",
    "b = 100\n",
    "#解法一\n",
    "# c = a\n",
    "# a = b\n",
    "# b = c\n",
    "# 解法二\n",
    "# a = a + b\n",
    "# b = a - b\n",
    "# a = a - b\n",
    "# 解法三\n",
    "a, b = b, a\n",
    "print(a,b)"
   ]
  },
  {
   "cell_type": "code",
   "execution_count": null,
   "metadata": {},
   "outputs": [],
   "source": [
    "# 不可变和可变参数\n",
    "\n",
    "def demo(num,num_list):\n",
    "\tprint(\"函数内部的代码\")\n",
    "\tnum = 100\n",
    "\tnum_list = [1, 2, 3]\n",
    "\tprint(num)\n",
    "gl_list = [4, 5, 6,]\n",
    "gl_num = 90\n",
    "demo(gl_num,gl_list)\n",
    "print(gl_num)\n",
    "print(gl_list)"
   ]
  },
  {
   "cell_type": "code",
   "execution_count": 1,
   "metadata": {},
   "outputs": [
    {
     "name": "stdout",
     "output_type": "stream",
     "text": [
      "函数内部代码\n",
      "[1, 2, 3, 9]\n",
      "函数执行完成\n",
      "[1, 2, 3, 9]\n"
     ]
    }
   ],
   "source": [
    "# 函数内部通过方法修改可变参数\n",
    "\n",
    "def demo(num_list):\n",
    "\tprint(\"函数内部代码\")\n",
    "\n",
    "\tnum_list.append(9)\n",
    "\tprint(num_list)\n",
    "\tprint(\"函数执行完成\")\n",
    "\n",
    "gl_list = [1, 2, 3]\n",
    "demo(gl_list)\n",
    "print(gl_list)"
   ]
  },
  {
   "cell_type": "code",
   "execution_count": null,
   "metadata": {},
   "outputs": [],
   "source": [
    "# 加等于的用法\n",
    "\n",
    "def demo(num,num_list, num2_list):\n",
    "\n",
    "\tprint('函数开始')\n",
    "\tnum += num\n",
    "\n",
    "\tnum_list += num_list\n",
    "\tnum2_list = num2_list +num2_list\n",
    "\t# 列表变量做加等于是调用extend方法\n",
    "\tprint(num)\n",
    "\tprint(\"函数完成\")\n",
    "\n",
    "gl_num = 9\n",
    "gl_list = [1, 2, 3]\n",
    "gl2_list = [4, 5, 6]\n",
    "demo(gl_num,gl_list, gl2_list)\n",
    "print(gl_num)\n",
    "print(gl_list)\n",
    "print(gl2_list)"
   ]
  },
  {
   "cell_type": "code",
   "execution_count": 2,
   "metadata": {},
   "outputs": [
    {
     "name": "stdout",
     "output_type": "stream",
     "text": [
      "[9, 6, 3]\n"
     ]
    }
   ],
   "source": [
    "# 函数的缺省参数\n",
    "\n",
    "gl_list = [6, 3, 9]\n",
    "# 默认按照升序排序 如sort(reverse = False)\n",
    "#gl_list.sort()\n",
    "\n",
    "gl_list.sort(reverse=True)\n",
    "\n",
    "\n",
    "print(gl_list)"
   ]
  },
  {
   "cell_type": "code",
   "execution_count": 3,
   "metadata": {},
   "outputs": [
    {
     "name": "stdout",
     "output_type": "stream",
     "text": [
      "小明 是 男生\n"
     ]
    }
   ],
   "source": [
    "# 函数的缺省参数\n",
    "\n",
    "def print_info(name, gender = True):\n",
    "\t\"\"\"\n",
    "\n",
    "\t:param name: 班上同学的姓名\n",
    "\t:param gender: True 男生 false 女生\n",
    "\t\"\"\"\n",
    "\tgender_text = \"男生\"\n",
    "\tif not gender:\n",
    "\t\tgender_text = \"女生\"\n",
    "\tprint(\"%s 是 %s\"%(name, gender_text))\n",
    "print_info(\"小明\")"
   ]
  },
  {
   "cell_type": "code",
   "execution_count": null,
   "metadata": {},
   "outputs": [],
   "source": [
    "# 缺省参数注意事项\n",
    "def print_info(name, title=\"\",gender=True):\n",
    "\t\"\"\"\n",
    "\n",
    "\t:param title:\n",
    "\t:param name: 班上同学的姓名\n",
    "\t:param gender: True 男生 false 女生\n",
    "\t\"\"\"\n",
    "\tgender_text = \"男生\"\n",
    "\tif not gender:\n",
    "\t\tgender_text = \"女生\"\n",
    "\tprint(\"[%s]%s 是 %s\"%(title,name, gender_text))\n",
    "print_info(\"小明\")\n",
    "print_info(\"小强\")\n",
    "print_info(\"小美\", gender=False)"
   ]
  },
  {
   "cell_type": "code",
   "execution_count": null,
   "metadata": {},
   "outputs": [],
   "source": [
    "# 多值参数\n",
    "\n",
    "def demo (num, *nums, **person):\n",
    "\tprint(num)\n",
    "\tprint(nums)\n",
    "\tprint(person)\n",
    "demo(1)\n",
    "demo(1,2,3,4,5,name = \"小明\",age = 18)"
   ]
  },
  {
   "cell_type": "code",
   "execution_count": null,
   "metadata": {},
   "outputs": [],
   "source": [
    "# 多值参数求和\n",
    "\n",
    "def sum_numbers(*args):\n",
    "\tnum = 0\n",
    "\tprint(args)\n",
    "\tfor n in args:\n",
    "\t\tnum += n\n",
    "\treturn num\n",
    "result = sum_numbers(1,2,3,4,5)\n",
    "print(result)"
   ]
  },
  {
   "cell_type": "code",
   "execution_count": 4,
   "metadata": {},
   "outputs": [
    {
     "name": "stdout",
     "output_type": "stream",
     "text": [
      "(1, 2, 3)\n",
      "{'name': '小明', 'age': 18}\n"
     ]
    }
   ],
   "source": [
    "# 元组和字典的拆包\n",
    "\n",
    "def demo(*args, **kwargs):\n",
    "\tprint(args)\n",
    "\tprint(kwargs)\n",
    "\n",
    "gl_nums = (1,2,3)\n",
    "gl_dict = {\"name\":\"小明\", \"age\": 18}\n",
    "# demo(gl_nums,gl_dict)\n",
    "# 拆包语法，简化元组变量/字典变量的传递\n",
    "demo(*gl_nums,**gl_dict)"
   ]
  },
  {
   "cell_type": "code",
   "execution_count": 5,
   "metadata": {},
   "outputs": [
    {
     "name": "stdout",
     "output_type": "stream",
     "text": [
      "5\n",
      "4\n",
      "3\n",
      "2\n",
      "1\n"
     ]
    }
   ],
   "source": [
    "# 递归函数的特点\n",
    "\n",
    "def sum_number(num):\n",
    "\tprint(num)\n",
    "\tif num == 1:\n",
    "\t\treturn\n",
    "\tsum_number(num - 1)\n",
    "sum_number(5)\n"
   ]
  },
  {
   "cell_type": "code",
   "execution_count": 7,
   "metadata": {},
   "outputs": [
    {
     "name": "stdout",
     "output_type": "stream",
     "text": [
      "请输入一个整数：10\n",
      "10! = 3628800\n"
     ]
    }
   ],
   "source": [
    "# 递归求阶乘\n",
    "\n",
    "def fun_num(num):\n",
    "\tif num == 1:\n",
    "\t\tresult = 1\n",
    "\telse:\n",
    "\t\tresult = num * fun_num(num - 1)\n",
    "\treturn result\n",
    "number = int(input(\"请输入一个整数：\"))\n",
    "print(\"%d! =\" % number,fun_num(number))"
   ]
  },
  {
   "cell_type": "code",
   "execution_count": null,
   "metadata": {},
   "outputs": [],
   "source": [
    "# 递归求和\n",
    "\n",
    "def sum_num(num):\n",
    "\tif num == 1:\n",
    "\t\treturn 1\n",
    "\telse:\n",
    "\t\tresult = sum_num(num - 1) + num\n",
    "\treturn result\n",
    "number = 100\n",
    "print(\"从1加一直加到%d的和为\"%number,sum_num(number))"
   ]
  },
  {
   "cell_type": "code",
   "execution_count": 8,
   "metadata": {},
   "outputs": [
    {
     "name": "stdout",
     "output_type": "stream",
     "text": [
      "demo1 ==> 10\n",
      "demo1 ==> 黑马程序员\n",
      "demo1 ==> 小明\n"
     ]
    }
   ],
   "source": [
    "# 全局变量的命名\n",
    "\n",
    "g_num = 10\n",
    "g_name = \"小明\"\n",
    "g_title = \"黑马程序员\"\n",
    "\n",
    "\n",
    "def demo1():\n",
    "\tprint(\"demo1 ==> %d\" % g_num)\n",
    "\tprint(\"demo1 ==> %s\" % g_title)\n",
    "\tprint(\"demo1 ==> %s\" % g_name)\n",
    "\n",
    "\n",
    "demo1()"
   ]
  }
 ],
 "metadata": {
  "kernelspec": {
   "display_name": "Python 3",
   "language": "python",
   "name": "python3"
  },
  "language_info": {
   "codemirror_mode": {
    "name": "ipython",
    "version": 3
   },
   "file_extension": ".py",
   "mimetype": "text/x-python",
   "name": "python",
   "nbconvert_exporter": "python",
   "pygments_lexer": "ipython3",
   "version": "3.6.0"
  }
 },
 "nbformat": 4,
 "nbformat_minor": 2
}
