{
 "cells": [
  {
   "cell_type": "code",
   "execution_count": 6,
   "metadata": {},
   "outputs": [
    {
     "name": "stdout",
     "output_type": "stream",
     "text": [
      "20\n",
      "10\n"
     ]
    },
    {
     "data": {
      "text/plain": [
       "'0b10'"
      ]
     },
     "execution_count": 6,
     "metadata": {},
     "output_type": "execute_result"
    }
   ],
   "source": [
    "a = 10\n",
    "b = 20 \n",
    "print(a and b)\n",
    "print(a or b)\n",
    "bin(a>>2)"
   ]
  },
  {
   "cell_type": "code",
   "execution_count": 12,
   "metadata": {},
   "outputs": [
    {
     "data": {
      "text/plain": [
       "-10"
      ]
     },
     "execution_count": 12,
     "metadata": {},
     "output_type": "execute_result"
    }
   ],
   "source": [
    "a = 9\n",
    "~a"
   ]
  },
  {
   "cell_type": "code",
   "execution_count": 18,
   "metadata": {},
   "outputs": [
    {
     "name": "stdout",
     "output_type": "stream",
     "text": [
      "3\n"
     ]
    }
   ],
   "source": [
    "z=2\n",
    "x=2\n",
    "y=1\n",
    "x+=y\n",
    "print(x)"
   ]
  },
  {
   "cell_type": "code",
   "execution_count": 25,
   "metadata": {},
   "outputs": [
    {
     "name": "stdout",
     "output_type": "stream",
     "text": [
      "请输入直角边的长度:89\n",
      "请输入直角边的长度:96\n",
      "130\n"
     ]
    }
   ],
   "source": [
    "a=input(\"请输入直角边的长度:\")\n",
    "b=input(\"请输入直角边的长度:\")\n",
    "a = int(a)\n",
    "b = int(b)\n",
    "d = (a**2+b**2)**0.5\n",
    "c = int(d)\n",
    "print(c)\n"
   ]
  },
  {
   "cell_type": "code",
   "execution_count": 23,
   "metadata": {},
   "outputs": [
    {
     "name": "stdout",
     "output_type": "stream",
     "text": [
      "6\n",
      "5\n"
     ]
    }
   ],
   "source": [
    "a = 5\n",
    "b = 6\n",
    "c = int(a)\n",
    "d = int(b)\n",
    "a = int(d)\n",
    "b = int(c)\n",
    "print(a)\n",
    "print(b)"
   ]
  },
  {
   "cell_type": "code",
   "execution_count": 28,
   "metadata": {},
   "outputs": [
    {
     "name": "stdout",
     "output_type": "stream",
     "text": [
      "我爱你1314\n",
      "我爱你1314\n",
      "我爱你1314\n",
      "我爱你1314\n",
      "我爱你1314\n",
      "我爱你1314\n",
      "我爱你1314\n",
      "我爱你1314\n",
      "我爱你1314\n"
     ]
    }
   ],
   "source": [
    "for a in range(1,10):\n",
    "    print(\"我爱你1314\")\n",
    "\n"
   ]
  },
  {
   "cell_type": "code",
   "execution_count": 1,
   "metadata": {},
   "outputs": [
    {
     "name": "stdout",
     "output_type": "stream",
     "text": [
      "1-100的偶数和为:2550\n"
     ]
    }
   ],
   "source": [
    "#计算1-100偶数和\n",
    "i = 0\n",
    "sum_result = 0\n",
    "while i < 101:\n",
    "    if i % 2 == 0:\n",
    "        sum_result += i\n",
    "    i += 1\n",
    "print(\"1-100的偶数和为:%s\"%sum_result)"
   ]
  },
  {
   "cell_type": "code",
   "execution_count": 6,
   "metadata": {},
   "outputs": [
    {
     "name": "stdout",
     "output_type": "stream",
     "text": [
      "*\n",
      "\n",
      "**\n",
      "\n",
      "***\n",
      "\n",
      "****\n",
      "\n",
      "*****\n",
      "\n",
      "******\n",
      "\n"
     ]
    }
   ],
   "source": [
    "i = 1\n",
    "while i < 7:\n",
    "    j = 0\n",
    "    while j < i:\n",
    "        print(\"*\",end = '')\n",
    "        j += 1 \n",
    "    print(\"\\n\")    \n",
    "    i += 1"
   ]
  },
  {
   "cell_type": "code",
   "execution_count": 10,
   "metadata": {},
   "outputs": [
    {
     "name": "stdout",
     "output_type": "stream",
     "text": [
      "1*1=1 \n",
      "\n",
      "1*2=2 2*2=4 \n",
      "\n",
      "1*3=3 2*3=6 3*3=9 \n",
      "\n",
      "1*4=4 2*4=8 3*4=12 4*4=16 \n",
      "\n",
      "1*5=5 2*5=10 3*5=15 4*5=20 5*5=25 \n",
      "\n",
      "1*6=6 2*6=12 3*6=18 4*6=24 5*6=30 6*6=36 \n",
      "\n",
      "1*7=7 2*7=14 3*7=21 4*7=28 5*7=35 6*7=42 7*7=49 \n",
      "\n",
      "1*8=8 2*8=16 3*8=24 4*8=32 5*8=40 6*8=48 7*8=56 8*8=64 \n",
      "\n",
      "1*9=9 2*9=18 3*9=27 4*9=36 5*9=45 6*9=54 7*9=63 8*9=72 9*9=81 \n",
      "\n"
     ]
    }
   ],
   "source": [
    "# while嵌套九九乘法表\n",
    "i = 1\n",
    "while i < 10:\n",
    "    j=1\n",
    "    while j <= i:\n",
    "        print(\"%d*%d=%d \"%(j,i,i*j),end='')\n",
    "        j += 1\n",
    "    print(\"\\n\")\n",
    "    i += 1"
   ]
  }
 ],
 "metadata": {
  "kernelspec": {
   "display_name": "Python 3",
   "language": "python",
   "name": "python3"
  },
  "language_info": {
   "codemirror_mode": {
    "name": "ipython",
    "version": 3
   },
   "file_extension": ".py",
   "mimetype": "text/x-python",
   "name": "python",
   "nbconvert_exporter": "python",
   "pygments_lexer": "ipython3",
   "version": "3.6.3"
  }
 },
 "nbformat": 4,
 "nbformat_minor": 2
}
