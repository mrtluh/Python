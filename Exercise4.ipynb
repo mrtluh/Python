{
 "cells": [
  {
   "cell_type": "code",
   "execution_count": 4,
   "metadata": {},
   "outputs": [
    {
     "name": "stdout",
     "output_type": "stream",
     "text": [
      "静静,你怎么啦\n",
      "哈哈，静静，想不到吧，我提前结束了！\n"
     ]
    }
   ],
   "source": [
    "def hello(person):\n",
    "    print(\"{0},你怎么啦\".format(person))\n",
    "    return(\"哈哈，{0}，想不到吧，我提前结束了！\".format(person))\n",
    "p = (\"静静\")\n",
    "rst = hello(p)\n",
    "print(rst)"
   ]
  },
  {
   "cell_type": "code",
   "execution_count": 11,
   "metadata": {},
   "outputs": [
    {
     "name": "stdout",
     "output_type": "stream",
     "text": [
      "1 ------\n",
      "2 4 ------\n",
      "3 6 9 ------\n",
      "4 8 12 16 ------\n",
      "5 10 15 20 25 ------\n",
      "6 12 18 24 30 36 ------\n",
      "7 14 21 28 35 42 49 ------\n",
      "8 16 24 32 40 48 56 64 ------\n",
      "9 18 27 36 45 54 63 72 81 ------\n"
     ]
    }
   ],
   "source": [
    "for row in range(1,10):\n",
    "    for col in range(1,row+1):\n",
    "        print(row * col,end=' ')\n",
    "    print(\"------\")"
   ]
  },
  {
   "cell_type": "code",
   "execution_count": 13,
   "metadata": {},
   "outputs": [
    {
     "name": "stdout",
     "output_type": "stream",
     "text": [
      "1 \n",
      "2 4 \n",
      "3 6 9 \n",
      "4 8 12 16 \n",
      "5 10 15 20 25 \n",
      "6 12 18 24 30 36 \n",
      "7 14 21 28 35 42 49 \n",
      "8 16 24 32 40 48 56 64 \n",
      "9 18 27 36 45 54 63 72 81 \n"
     ]
    }
   ],
   "source": [
    "#定义一个函数，打印九九乘法表\n",
    "def printline(row):\n",
    "    for col in range(1,row+1):\n",
    "        print(row*col,end=\" \")\n",
    "    print(\"\")\n",
    "for row in range(1,10):\n",
    "    printline(row)"
   ]
  }
 ],
 "metadata": {
  "kernelspec": {
   "display_name": "Python 3",
   "language": "python",
   "name": "python3"
  },
  "language_info": {
   "codemirror_mode": {
    "name": "ipython",
    "version": 3
   },
   "file_extension": ".py",
   "mimetype": "text/x-python",
   "name": "python",
   "nbconvert_exporter": "python",
   "pygments_lexer": "ipython3",
   "version": "3.6.3"
  }
 },
 "nbformat": 4,
 "nbformat_minor": 2
}
