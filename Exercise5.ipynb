{
 "cells": [
  {
   "cell_type": "code",
   "execution_count": 7,
   "metadata": {},
   "outputs": [
    {
     "name": "stdout",
     "output_type": "stream",
     "text": [
      "Hello 大家好，我自我介绍下，简单说两句：\n",
      "<class 'tuple'>\n",
      "liuying\n",
      "18\n",
      "北京大通周区\n",
      "王晓静\n",
      "single\n",
      "Hello 大家好，我自我介绍下，简单说两句：\n",
      "<class 'tuple'>\n",
      "周大神\n"
     ]
    }
   ],
   "source": [
    "def stu(*args):\n",
    "    print(\"Hello 大家好，我自我介绍下，简单说两句：\")\n",
    "    #type函数作用是检测变量类型\n",
    "    print(type(args))\n",
    "    for item in args:\n",
    "        print(item)\n",
    "        \n",
    "stu(\"liuying\",18,\"北京大通周区\",\"王晓静\",\"single\")\n",
    "stu(\"周大神\")\n"
   ]
  },
  {
   "cell_type": "code",
   "execution_count": 12,
   "metadata": {},
   "outputs": [
    {
     "name": "stdout",
     "output_type": "stream",
     "text": [
      "hello 大家好，我自我介绍下：\n",
      "<class 'dict'>\n",
      "name --- liuying\n",
      "age --- 19\n",
      "addr --- 北京大通粥区\n",
      "lover --- wangxiaojing\n",
      "work --- Teacher\n",
      "********************\n",
      "hello 大家好，我自我介绍下：\n",
      "<class 'dict'>\n",
      "name --- 周大神\n"
     ]
    }
   ],
   "source": [
    "def stu(**kwargs):\n",
    "    print(\"hello 大家好，我自我介绍下：\")\n",
    "    print(type(kwargs))\n",
    "    for k,v in kwargs.items():\n",
    "        print(k,\"---\",v)\n",
    "stu(name=\"liuying\",age=19,addr=\"北京大通粥区\",lover=\"wangxiaojing\",work='Teacher')\n",
    "print('*' * 20)\n",
    "stu(name=\"周大神\")"
   ]
  },
  {
   "cell_type": "code",
   "execution_count": 16,
   "metadata": {},
   "outputs": [
    {
     "name": "stdout",
     "output_type": "stream",
     "text": [
      "请输入用户名：sadasds\n",
      "用户名为：sadasds\n",
      "请输入密码：sadasd\n",
      "密码为:sadasd\n"
     ]
    }
   ],
   "source": [
    "user_name = input(\"请输入用户名：\")\n",
    "print(\"用户名为：%s\"%user_name)\n",
    "user_password = input(\"请输入密码：\")\n",
    "print(\"密码为:%s\"%user_password)"
   ]
  }
 ],
 "metadata": {
  "kernelspec": {
   "display_name": "Python 3",
   "language": "python",
   "name": "python3"
  },
  "language_info": {
   "codemirror_mode": {
    "name": "ipython",
    "version": 3
   },
   "file_extension": ".py",
   "mimetype": "text/x-python",
   "name": "python",
   "nbconvert_exporter": "python",
   "pygments_lexer": "ipython3",
   "version": "3.6.4"
  }
 },
 "nbformat": 4,
 "nbformat_minor": 2
}
