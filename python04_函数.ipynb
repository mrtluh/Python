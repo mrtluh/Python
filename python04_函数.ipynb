{
 "cells": [
  {
   "cell_type": "code",
   "execution_count": null,
   "metadata": {},
   "outputs": [],
   "source": [
    "# 九九乘法表\n",
    "def multiple_table():\n",
    "\ti = 0\n",
    "\twhile i < 9:\n",
    "\t\tj = 0\n",
    "\t\twhile j <= i:\n",
    "\t\t\tprint(\"%dx%d=%2d \"%((j + 1),(i + 1),((i + 1) * (j + 1))),end = '')\n",
    "\t\t\tj += 1\n",
    "\t\tprint()\n",
    "\t\ti += 1"
   ]
  },
  {
   "cell_type": "code",
   "execution_count": null,
   "metadata": {},
   "outputs": [],
   "source": [
    "# 第一个函数\n",
    "name = \"小明\"\n",
    "\n",
    "\n",
    "def say_hello():\n",
    "\t\"\"\"打招呼\"\"\"\n",
    "\tprint(\"hello 1\")\n",
    "\tprint(\"hello 2\")\n",
    "\tprint(\"hello 3\")\n",
    "say_hello()\n",
    "\n",
    "print(name)\n",
    "say_hello()\n",
    "print(name)"
   ]
  },
  {
   "cell_type": "code",
   "execution_count": 1,
   "metadata": {},
   "outputs": [
    {
     "name": "stdout",
     "output_type": "stream",
     "text": [
      "请输入当月利润：154010\n",
      "当月应发奖金总额为：14050.75\n"
     ]
    }
   ],
   "source": [
    "# 练习\n",
    "# 题目：企业发放的奖金根据利润提成。利润 (I) ：\n",
    "# 低于或等于 10 万元时，奖金可提 10%；\n",
    "# 高于 10 万元，低于 20 万元时，低于 10 万元的部分按 10%提成，高于 10\n",
    "# 万元的部分，可提成 7.5%；\n",
    "# 20 万到 40 万之间时，高于 20 万元的部分，可提成 5%；\n",
    "# 40 万到 60 万之间时，高于 40 万元的部分，可提成 3%；\n",
    "# 60 万到 100 万之间时，高于 60 万元的部分，可提成 1.5%，\n",
    "# 高于 100 万元时，\n",
    "# 超过 100 万元的部分按 1%提成，\n",
    "# 从键盘输入当月利润 I ，求应发放奖金总数？\n",
    "\n",
    "I_lirun = int(input(\"请输入当月利润：\"))\n",
    "if I_lirun <= 100000:\n",
    "\tpay_all = I_lirun * 0.1\n",
    "if I_lirun > 100000 and I_lirun <= 200000:\n",
    "\tpay_all = 100000 * 0.1 + (I_lirun - 100000) * 0.075\n",
    "if I_lirun > 200000 and I_lirun <= 400000:\n",
    "\tpay_all = (100000 * 0.1 +(200000-100000) * 0.075\n",
    "\t\t\t   +(I_lirun - 200000) * 0.05)\n",
    "if I_lirun > 400000 and I_lirun <= 600000:\n",
    "\tpay_all = (100000 * 0.1 +(200000-100000) * 0.075\n",
    "\t\t\t   +(400000- 200000) * 0.05\n",
    "\t\t\t   + (I_lirun - 400000) * 0.03)\n",
    "if I_lirun > 600000 and I_lirun <= 1000000:\n",
    "\tpay_all = (100000 * 0.1 + (200000 - 100000) * 0.075\n",
    "\t\t\t   + (400000 - 200000) * 0.05\n",
    "\t\t\t   + (600000 - 400000) * 0.03\n",
    "\t\t\t   + (I_lirun - 600000) * 0.015)\n",
    "if I_lirun >1000000:\n",
    "\tpay_all = (100000 * 0.1 + (200000 - 100000) * 0.075\n",
    "\t\t\t   + (400000 - 200000) * 0.05\n",
    "\t\t\t   + (600000 - 400000) * 0.03\n",
    "\t\t\t   + (1000000 - 600000) * 0.015\n",
    "\t\t\t   + (I_lirun - 1000000) * 0.01)\n",
    "print(\"当月应发奖金总额为：{}\".format(pay_all))"
   ]
  },
  {
   "cell_type": "code",
   "execution_count": null,
   "metadata": {},
   "outputs": [],
   "source": [
    "# 函数的参数\n",
    "def sum_2_num(num1,num2):\n",
    "\t\"\"\"两个数字的求和\"\"\"\n",
    "\tresult = num1 + num2\n",
    "\tprint(\"%d + %d = %d\"%(num1,num2,result))\n",
    "sum_2_num(5,10)"
   ]
  },
  {
   "cell_type": "code",
   "execution_count": null,
   "metadata": {},
   "outputs": [],
   "source": [
    "# 函数的返回值\n",
    "def sum_2_num(num1,num2):\n",
    "\t#  计算两个数的和\n",
    "\treturn num1 + num2\n",
    "result = sum_2_num(15,21)\n",
    "print(\"两个数的和为：{}\".format(result))"
   ]
  },
  {
   "cell_type": "code",
   "execution_count": null,
   "metadata": {},
   "outputs": [],
   "source": [
    "# 函数的返回值\n",
    "def sum_2_num(num1,num2):\n",
    "\t\"\"\"对两个数字的说明\"\"\"\n",
    "\tresult = num1 + num2\n",
    "\treturn result\n",
    "sum_result = sum_2_num(50,20)\n",
    "print(sum_result)"
   ]
  },
  {
   "cell_type": "code",
   "execution_count": null,
   "metadata": {},
   "outputs": [],
   "source": [
    "# 数值计算\n",
    "import math\n",
    "#  引入数学模块\n",
    "a = 1\n",
    "while a > 0:\n",
    "\tc = a + 100\n",
    "\tb = a +268\n",
    "\tif math.sqrt(c) % 1 == 0 and math.sqrt(b) % 1 == 0:\n",
    "#   如果c 和 b 的平方根都为整数，则打印a\n",
    "\t\tprint(a)\n",
    "\ta += 1\n",
    "print(\"The end\")\n"
   ]
  },
  {
   "cell_type": "code",
   "execution_count": null,
   "metadata": {},
   "outputs": [],
   "source": [
    "# 练习题\n",
    "# 已知一个四位数的千、百、十、个分别为a, b, c 和d,\n",
    "# 并且由这四位数abcd * d = dcba dcba 也为一个四位数\n",
    "# a ,b, c, d 互不相同,求a ,b, c, d 各为多少？\n",
    "a = 1\n",
    "while a < 10:\n",
    "\tb = 0\n",
    "\twhile b < 10:\n",
    "\t\tc = 0\n",
    "\t\twhile c < 10:\n",
    "\t\t\td = 0\n",
    "\t\t\twhile d < 10:\n",
    "\t\t\t\te = int(\"%d%d%d%d\"%(a,b,c,d))\n",
    "\t\t\t\tf = int(\"%d%d%d%d\"%(d,c,b,a))\n",
    "\t\t\t\t# print(e,f)\n",
    "\t\t\t\tif e * d == f and a != b != c != d:\n",
    "\t\t\t\t\tprint(\"a=%d b=%d c=%d d=%d\"%(a,b,c,d))\n",
    "\t\t\t\td += 1\n",
    "\t\t\tc += 1\n",
    "\t\tb += 1\n",
    "\ta += 1\n",
    "print(\"The end\")\n"
   ]
  },
  {
   "cell_type": "code",
   "execution_count": null,
   "metadata": {},
   "outputs": [],
   "source": [
    "# 函数的嵌套调用\n",
    "def test_1():\n",
    "\tprint('*' * 50)\n",
    "\n",
    "def test_2():\n",
    "\tprint('+' * 50)\n",
    "\ttest_1()\n",
    "\tprint('-' * 50)\n",
    "test_2()"
   ]
  },
  {
   "cell_type": "code",
   "execution_count": 3,
   "metadata": {},
   "outputs": [],
   "source": [
    "# 分割线\n",
    "def print_line(char,times):\n",
    "\tprint(char * times)\n",
    "#print_line('*',40)\n",
    "\n",
    "def print_line2(char, times):\n",
    "\t\"\"\"打印多行分割线\n",
    "\t:param char:\n",
    "\t:param times:\n",
    "\t\"\"\"\n",
    "\ti = 0\n",
    "\twhile i < 5:\n",
    "\t\tprint(char * times)\n",
    "\t\ti += 1\n",
    "\n",
    "#print_line2('^', 50)\n",
    "name = '黑马程序员'"
   ]
  },
  {
   "cell_type": "code",
   "execution_count": 5,
   "metadata": {},
   "outputs": [
    {
     "name": "stdout",
     "output_type": "stream",
     "text": [
      "--------------------\n",
      "--------------------\n",
      "--------------------\n",
      "--------------------\n",
      "--------------------\n",
      "\n",
      "^^^^^^^^^^^^^^^^^^^^^^^^^^^^^^^^^^^^^^^^^^^^^^^^^^\n",
      "^^^^^^^^^^^^^^^^^^^^^^^^^^^^^^^^^^^^^^^^^^^^^^^^^^\n",
      "^^^^^^^^^^^^^^^^^^^^^^^^^^^^^^^^^^^^^^^^^^^^^^^^^^\n",
      "^^^^^^^^^^^^^^^^^^^^^^^^^^^^^^^^^^^^^^^^^^^^^^^^^^\n",
      "^^^^^^^^^^^^^^^^^^^^^^^^^^^^^^^^^^^^^^^^^^^^^^^^^^\n"
     ]
    }
   ],
   "source": [
    "# 函数参数\n",
    "def print_line(char, times):\n",
    "\tfor i in range(0, 5):\n",
    "\t\tprint(char * times)\n",
    "\n",
    "\n",
    "print_line('-', 20)\n",
    "print()\n",
    "\n",
    "\n",
    "def print_line2(char, times):\n",
    "\t\"\"\"打印多行分割线\n",
    "\t:param char:\n",
    "\t:param times:\n",
    "\t\"\"\"\n",
    "\ti = 0\n",
    "\twhile i < 5:\n",
    "\t\tprint(char * times)\n",
    "\t\ti += 1\n",
    "\n",
    "print_line2('^', 50)"
   ]
  },
  {
   "cell_type": "code",
   "execution_count": 6,
   "metadata": {},
   "outputs": [
    {
     "name": "stdout",
     "output_type": "stream",
     "text": [
      "300\n"
     ]
    }
   ],
   "source": [
    "# 匿名函数\n",
    "add = lambda a, b: a + b\n",
    "print(add(100,200))"
   ]
  }
 ],
 "metadata": {
  "kernelspec": {
   "display_name": "Python 3",
   "language": "python",
   "name": "python3"
  },
  "language_info": {
   "codemirror_mode": {
    "name": "ipython",
    "version": 3
   },
   "file_extension": ".py",
   "mimetype": "text/x-python",
   "name": "python",
   "nbconvert_exporter": "python",
   "pygments_lexer": "ipython3",
   "version": "3.6.0"
  }
 },
 "nbformat": 4,
 "nbformat_minor": 2
}
